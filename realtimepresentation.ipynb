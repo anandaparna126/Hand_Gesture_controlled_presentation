{
  "nbformat": 4,
  "nbformat_minor": 0,
  "metadata": {
    "colab": {
      "provenance": []
    },
    "kernelspec": {
      "name": "python3",
      "display_name": "Python 3"
    },
    "language_info": {
      "name": "python"
    }
  },
  "cells": [
    {
      "cell_type": "code",
      "source": [
        "pip install cvzone"
      ],
      "metadata": {
        "colab": {
          "base_uri": "https://localhost:8080/"
        },
        "id": "avXCuZm4rzh1",
        "outputId": "0ea64286-277f-4f30-8a84-a8315f02e3cf"
      },
      "execution_count": 1,
      "outputs": [
        {
          "output_type": "stream",
          "name": "stdout",
          "text": [
            "Collecting cvzone\n",
            "  Downloading cvzone-1.6.1.tar.gz (25 kB)\n",
            "  Preparing metadata (setup.py) ... \u001b[?25l\u001b[?25hdone\n",
            "Requirement already satisfied: opencv-python in /usr/local/lib/python3.10/dist-packages (from cvzone) (4.8.0.76)\n",
            "Requirement already satisfied: numpy in /usr/local/lib/python3.10/dist-packages (from cvzone) (1.25.2)\n",
            "Building wheels for collected packages: cvzone\n",
            "  Building wheel for cvzone (setup.py) ... \u001b[?25l\u001b[?25hdone\n",
            "  Created wheel for cvzone: filename=cvzone-1.6.1-py3-none-any.whl size=26297 sha256=30b52e35a8f7e6ab718a14cbe5b833b7b2fd7bf290dea3ecdfd2392c1457ec70\n",
            "  Stored in directory: /root/.cache/pip/wheels/2c/9f/b3/92e945ac4a71bf727a92463f38155cc5a4fa49c5010b38ec4c\n",
            "Successfully built cvzone\n",
            "Installing collected packages: cvzone\n",
            "Successfully installed cvzone-1.6.1\n"
          ]
        }
      ]
    },
    {
      "cell_type": "code",
      "source": [
        "pip install HandTrackingModule"
      ],
      "metadata": {
        "colab": {
          "base_uri": "https://localhost:8080/"
        },
        "id": "lvXVmxk_r_bm",
        "outputId": "8c67cf7b-0f6a-4e2e-e24f-33c60a584795"
      },
      "execution_count": 2,
      "outputs": [
        {
          "output_type": "stream",
          "name": "stdout",
          "text": [
            "Collecting HandTrackingModule\n",
            "  Downloading HandTrackingModule-0.2-py2.py3-none-any.whl (2.3 kB)\n",
            "Collecting mediapipe (from HandTrackingModule)\n",
            "  Downloading mediapipe-0.10.9-cp310-cp310-manylinux_2_17_x86_64.manylinux2014_x86_64.whl (34.5 MB)\n",
            "\u001b[2K     \u001b[90m━━━━━━━━━━━━━━━━━━━━━━━━━━━━━━━━━━━━━━━━\u001b[0m \u001b[32m34.5/34.5 MB\u001b[0m \u001b[31m36.1 MB/s\u001b[0m eta \u001b[36m0:00:00\u001b[0m\n",
            "\u001b[?25hRequirement already satisfied: numpy in /usr/local/lib/python3.10/dist-packages (from HandTrackingModule) (1.25.2)\n",
            "Requirement already satisfied: opencv-python in /usr/local/lib/python3.10/dist-packages (from HandTrackingModule) (4.8.0.76)\n",
            "Requirement already satisfied: absl-py in /usr/local/lib/python3.10/dist-packages (from mediapipe->HandTrackingModule) (1.4.0)\n",
            "Requirement already satisfied: attrs>=19.1.0 in /usr/local/lib/python3.10/dist-packages (from mediapipe->HandTrackingModule) (23.2.0)\n",
            "Requirement already satisfied: flatbuffers>=2.0 in /usr/local/lib/python3.10/dist-packages (from mediapipe->HandTrackingModule) (23.5.26)\n",
            "Requirement already satisfied: matplotlib in /usr/local/lib/python3.10/dist-packages (from mediapipe->HandTrackingModule) (3.7.1)\n",
            "Requirement already satisfied: opencv-contrib-python in /usr/local/lib/python3.10/dist-packages (from mediapipe->HandTrackingModule) (4.8.0.76)\n",
            "Requirement already satisfied: protobuf<4,>=3.11 in /usr/local/lib/python3.10/dist-packages (from mediapipe->HandTrackingModule) (3.20.3)\n",
            "Collecting sounddevice>=0.4.4 (from mediapipe->HandTrackingModule)\n",
            "  Downloading sounddevice-0.4.6-py3-none-any.whl (31 kB)\n",
            "Requirement already satisfied: CFFI>=1.0 in /usr/local/lib/python3.10/dist-packages (from sounddevice>=0.4.4->mediapipe->HandTrackingModule) (1.16.0)\n",
            "Requirement already satisfied: contourpy>=1.0.1 in /usr/local/lib/python3.10/dist-packages (from matplotlib->mediapipe->HandTrackingModule) (1.2.0)\n",
            "Requirement already satisfied: cycler>=0.10 in /usr/local/lib/python3.10/dist-packages (from matplotlib->mediapipe->HandTrackingModule) (0.12.1)\n",
            "Requirement already satisfied: fonttools>=4.22.0 in /usr/local/lib/python3.10/dist-packages (from matplotlib->mediapipe->HandTrackingModule) (4.48.1)\n",
            "Requirement already satisfied: kiwisolver>=1.0.1 in /usr/local/lib/python3.10/dist-packages (from matplotlib->mediapipe->HandTrackingModule) (1.4.5)\n",
            "Requirement already satisfied: packaging>=20.0 in /usr/local/lib/python3.10/dist-packages (from matplotlib->mediapipe->HandTrackingModule) (23.2)\n",
            "Requirement already satisfied: pillow>=6.2.0 in /usr/local/lib/python3.10/dist-packages (from matplotlib->mediapipe->HandTrackingModule) (9.4.0)\n",
            "Requirement already satisfied: pyparsing>=2.3.1 in /usr/local/lib/python3.10/dist-packages (from matplotlib->mediapipe->HandTrackingModule) (3.1.1)\n",
            "Requirement already satisfied: python-dateutil>=2.7 in /usr/local/lib/python3.10/dist-packages (from matplotlib->mediapipe->HandTrackingModule) (2.8.2)\n",
            "Requirement already satisfied: pycparser in /usr/local/lib/python3.10/dist-packages (from CFFI>=1.0->sounddevice>=0.4.4->mediapipe->HandTrackingModule) (2.21)\n",
            "Requirement already satisfied: six>=1.5 in /usr/local/lib/python3.10/dist-packages (from python-dateutil>=2.7->matplotlib->mediapipe->HandTrackingModule) (1.16.0)\n",
            "Installing collected packages: sounddevice, mediapipe, HandTrackingModule\n",
            "Successfully installed HandTrackingModule-0.2 mediapipe-0.10.9 sounddevice-0.4.6\n"
          ]
        }
      ]
    },
    {
      "cell_type": "code",
      "metadata": {
        "id": "Ep7mOmYkV5dI"
      },
      "source": [
        "from cvzone.HandTrackingModule import HandDetector\n",
        "import cv2\n",
        "import os\n",
        "import numpy as np"
      ],
      "execution_count": 3,
      "outputs": []
    },
    {
      "cell_type": "code",
      "source": [
        "width, height = 1280, 720\n",
        "gestureThreshold = 300\n",
        "folderPath = \"Presentation\""
      ],
      "metadata": {
        "id": "CR9IynJsJWt1"
      },
      "execution_count": 4,
      "outputs": []
    },
    {
      "cell_type": "code",
      "source": [
        "cap = cv2.VideoCapture(0)\n",
        "cap.set(3, width)\n",
        "cap.set(4, height)"
      ],
      "metadata": {
        "colab": {
          "base_uri": "https://localhost:8080/"
        },
        "id": "n-LqYFehJbMj",
        "outputId": "2d10981b-0121-4287-bc66-f9b8eb412abc"
      },
      "execution_count": 5,
      "outputs": [
        {
          "output_type": "execute_result",
          "data": {
            "text/plain": [
              "False"
            ]
          },
          "metadata": {},
          "execution_count": 5
        }
      ]
    },
    {
      "cell_type": "code",
      "source": [
        "detectorHand = HandDetector(detectionCon=0.8, maxHands=1)"
      ],
      "metadata": {
        "id": "wQagFjuBJ2CM"
      },
      "execution_count": 6,
      "outputs": []
    },
    {
      "cell_type": "code",
      "source": [
        "imgList = []\n",
        "delay = 30\n",
        "buttonPressed = False\n",
        "counter = 0\n",
        "drawMode = False\n",
        "imgNumber = 0\n",
        "delayCounter = 0\n",
        "annotations = [[]]\n",
        "annotationNumber = -1\n",
        "annotationStart = False\n",
        "hs, ws = int(120 * 1), int(213 * 1)  # width and height of small image"
      ],
      "metadata": {
        "id": "9JKueLMOKGW8"
      },
      "execution_count": 7,
      "outputs": []
    },
    {
      "cell_type": "code",
      "source": [
        "import os"
      ],
      "metadata": {
        "id": "SWFpYCA2Wd_U"
      },
      "execution_count": 8,
      "outputs": []
    },
    {
      "cell_type": "code",
      "source": [
        "# Get list of presentation images\n",
        "pathImages = (\"D:\\\\semesters\\\\semester 5\\\\pbl\\\\presentation\")\n",
        "print(pathImages)\n",
        "img = os.listdir(pathImages)\n",
        "\n",
        "while True:\n",
        "    # Get image frame\n",
        "    success, img = cap.read()\n",
        "    img = cv2.flip(img, 1)\n",
        "    pathFullImage = os.path.join(folderPath, pathImages[imgNumber])\n",
        "    imgCurrent = cv2.imread(pathFullImage)\n",
        "\n",
        "    # Find the hand and its landmarks\n",
        "    hands, img = detectorHand.findHands(img)  # with draw\n",
        "    # Draw Gesture Threshold line\n",
        "    cv2.line(img, (0, gestureThreshold), (width, gestureThreshold), (0, 255, 0), 10)\n",
        "\n",
        "    if hands and buttonPressed is False:  # If hand is detected\n",
        "\n",
        "        hand = hands[0]\n",
        "        cx, cy = hand[\"center\"]\n",
        "        lmList = hand[\"lmList\"]  # List of 21 Landmark points\n",
        "        fingers = detectorHand.fingersUp(hand)  # List of which fingers are up\n",
        "\n",
        "\n",
        "\n"
      ],
      "metadata": {
        "colab": {
          "base_uri": "https://localhost:8080/",
          "height": 245
        },
        "id": "5i89CKl5Vb1L",
        "outputId": "37912448-543a-4a83-c9c4-537224badacd"
      },
      "execution_count": 34,
      "outputs": [
        {
          "output_type": "stream",
          "name": "stdout",
          "text": [
            "D:\\semesters\\semester 5\\pbl\\presentation\n"
          ]
        },
        {
          "output_type": "error",
          "ename": "FileNotFoundError",
          "evalue": "[Errno 2] No such file or directory: 'D:\\\\semesters\\\\semester 5\\\\pbl\\\\presentation'",
          "traceback": [
            "\u001b[0;31m---------------------------------------------------------------------------\u001b[0m",
            "\u001b[0;31mFileNotFoundError\u001b[0m                         Traceback (most recent call last)",
            "\u001b[0;32m<ipython-input-34-ee4e941f4297>\u001b[0m in \u001b[0;36m<cell line: 4>\u001b[0;34m()\u001b[0m\n\u001b[1;32m      2\u001b[0m \u001b[0mpathImages\u001b[0m \u001b[0;34m=\u001b[0m \u001b[0;34m(\u001b[0m\u001b[0;34m\"D:\\\\semesters\\\\semester 5\\\\pbl\\\\presentation\"\u001b[0m\u001b[0;34m)\u001b[0m\u001b[0;34m\u001b[0m\u001b[0;34m\u001b[0m\u001b[0m\n\u001b[1;32m      3\u001b[0m \u001b[0mprint\u001b[0m\u001b[0;34m(\u001b[0m\u001b[0mpathImages\u001b[0m\u001b[0;34m)\u001b[0m\u001b[0;34m\u001b[0m\u001b[0;34m\u001b[0m\u001b[0m\n\u001b[0;32m----> 4\u001b[0;31m \u001b[0mimg\u001b[0m \u001b[0;34m=\u001b[0m \u001b[0mopen\u001b[0m\u001b[0;34m(\u001b[0m\u001b[0mpathImages\u001b[0m\u001b[0;34m)\u001b[0m\u001b[0;34m\u001b[0m\u001b[0;34m\u001b[0m\u001b[0m\n\u001b[0m\u001b[1;32m      5\u001b[0m \u001b[0;34m\u001b[0m\u001b[0m\n\u001b[1;32m      6\u001b[0m \u001b[0;32mwhile\u001b[0m \u001b[0;32mTrue\u001b[0m\u001b[0;34m:\u001b[0m\u001b[0;34m\u001b[0m\u001b[0;34m\u001b[0m\u001b[0m\n",
            "\u001b[0;31mFileNotFoundError\u001b[0m: [Errno 2] No such file or directory: 'D:\\\\semesters\\\\semester 5\\\\pbl\\\\presentation'"
          ]
        }
      ]
    },
    {
      "cell_type": "code",
      "source": [
        " # Constrain values for easier drawing\n",
        "        xVal = int(np.interp(lmList[8][0], [width // 2, width], [0, width]))\n",
        "        yVal = int(np.interp(lmList[8][1], [150, height-150], [0, height]))\n",
        "        indexFinger = xVal, yVal\n",
        "\n",
        "        if cy <= gestureThreshold:  # If hand is at the height of the face\n",
        "            if fingers == [1, 0, 0, 0, 0]:\n",
        "                print(\"Left\")\n",
        "                buttonPressed = True\n",
        "                if imgNumber > 0:\n",
        "                    imgNumber -= 1\n",
        "                    annotations = [[]]\n",
        "                    annotationNumber = -1\n",
        "                    annotationStart = False\n",
        "            if fingers == [0, 0, 0, 0, 1]:\n",
        "                print(\"Right\")\n",
        "                buttonPressed = True\n",
        "                if imgNumber < len(pathImages) - 1:\n",
        "                    imgNumber += 1\n",
        "                    annotations = [[]]\n",
        "                    annotationNumber = -1\n",
        "                    annotationStart = False\n",
        "\n",
        "        if fingers == [0, 1, 1, 0, 0]:\n",
        "            cv2.circle(imgCurrent, indexFinger, 12, (0, 0, 255), cv2.FILLED)\n",
        "\n",
        "        if fingers == [0, 1, 0, 0, 0]:\n",
        "            if annotationStart is False:\n",
        "                annotationStart = True\n",
        "                annotationNumber += 1\n",
        "                annotations.append([])\n",
        "            print(annotationNumber)\n",
        "            annotations[annotationNumber].append(indexFinger)\n",
        "            cv2.circle(imgCurrent, indexFinger, 12, (0, 0, 255), cv2.FILLED)\n",
        "\n",
        "        else:\n",
        "            annotationStart = False\n",
        "\n",
        "        if fingers == [0, 1, 1, 1, 0]:\n",
        "            if annotations:\n",
        "                annotations.pop(-1)\n",
        "                annotationNumber -= 1\n",
        "                buttonPressed = True\n",
        "\n",
        "    else:\n",
        "        annotationStart = False\n",
        "\n",
        "    if buttonPressed:\n",
        "        counter += 1\n",
        "        if counter > delay:\n",
        "            counter = 0\n",
        "            buttonPressed = False\n",
        "\n",
        "    for i, annotation in enumerate(annotations):\n",
        "        for j in range(len(annotation)):\n",
        "            if j != 0:\n",
        "                cv2.line(imgCurrent, annotation[j - 1], annotation[j], (0, 0, 200), 12)\n",
        "\n",
        "    imgSmall = cv2.resize(img, (ws, hs))\n",
        "    h, w, _ = imgCurrent.shape\n",
        "    imgCurrent[0:hs, w - ws: w] = imgSmall\n",
        "\n",
        "    cv2.imshow(\"Slides\", imgCurrent)\n",
        "    cv2.imshow(\"Image\", img)\n",
        "\n",
        "    key = cv2.waitKey(1)\n",
        "    if key == ord('q'):\n",
        "        break\n"
      ],
      "metadata": {
        "id": "ueE9MfgcViQ1",
        "colab": {
          "base_uri": "https://localhost:8080/",
          "height": 131
        },
        "outputId": "72b6bde2-cd58-467c-bcb1-66724b7f4a0a"
      },
      "execution_count": null,
      "outputs": [
        {
          "output_type": "error",
          "ename": "IndentationError",
          "evalue": "ignored",
          "traceback": [
            "\u001b[0;36m  File \u001b[0;32m\"<tokenize>\"\u001b[0;36m, line \u001b[0;32m45\u001b[0m\n\u001b[0;31m    else:\u001b[0m\n\u001b[0m    ^\u001b[0m\n\u001b[0;31mIndentationError\u001b[0m\u001b[0;31m:\u001b[0m unindent does not match any outer indentation level\n"
          ]
        }
      ]
    }
  ]
}